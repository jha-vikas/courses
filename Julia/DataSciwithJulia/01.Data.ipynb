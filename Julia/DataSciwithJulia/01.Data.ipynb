{
 "cells": [
  {
   "cell_type": "markdown",
   "metadata": {},
   "source": [
    "# Data\n",
    "Being able to easily load and process data"
   ]
  },
  {
   "cell_type": "code",
   "execution_count": 1,
   "metadata": {},
   "outputs": [],
   "source": [
    "using BenchmarkTools\n",
    "using DataFrames\n",
    "using DelimitedFiles\n",
    "using CSV\n",
    "using XLSX"
   ]
  },
  {
   "cell_type": "markdown",
   "metadata": {},
   "source": [
    "# Get some data "
   ]
  },
  {
   "cell_type": "code",
   "execution_count": 5,
   "metadata": {},
   "outputs": [
    {
     "name": "stderr",
     "output_type": "stream",
     "text": [
      "WARNING: using Downloads.download in module Main conflicts with an existing identifier.\n"
     ]
    }
   ],
   "source": [
    "using Downloads"
   ]
  },
  {
   "cell_type": "code",
   "execution_count": 7,
   "metadata": {},
   "outputs": [
    {
     "data": {
      "text/latex": [
       "\\begin{verbatim}\n",
       "download(url, [ output = tempfile() ];\n",
       "    [ method = \"GET\", ]\n",
       "    [ headers = <none>, ]\n",
       "    [ timeout = <none>, ]\n",
       "    [ progress = <none>, ]\n",
       "    [ verbose = false, ]\n",
       "    [ downloader = <default>, ]\n",
       ") -> output\n",
       "\n",
       "    url        :: AbstractString\n",
       "    output     :: Union{AbstractString, AbstractCmd, IO}\n",
       "    method     :: AbstractString\n",
       "    headers    :: Union{AbstractVector, AbstractDict}\n",
       "    timeout    :: Real\n",
       "    progress   :: (total::Integer, now::Integer) --> Any\n",
       "    verbose    :: Bool\n",
       "    downloader :: Downloader\n",
       "\\end{verbatim}\n",
       "Download a file from the given url, saving it to \\texttt{output} or if not specified, a temporary path. The \\texttt{output} can also be an \\texttt{IO} handle, in which case the body of the response is streamed to that handle and the handle is returned. If \\texttt{output} is a command, the command is run and output is sent to it on stdin.\n",
       "\n",
       "If the \\texttt{downloader} keyword argument is provided, it must be a \\texttt{Downloader} object. Resources and connections will be shared between downloads performed by the same \\texttt{Downloader} and cleaned up automatically when the object is garbage collected or there have been no downloads performed with it for a grace period. See \\texttt{Downloader} for more info about configuration and usage.\n",
       "\n",
       "If the \\texttt{headers} keyword argument is provided, it must be a vector or dictionary whose elements are all pairs of strings. These pairs are passed as headers when downloading URLs with protocols that supports them, such as HTTP/S.\n",
       "\n",
       "The \\texttt{timeout} keyword argument specifies a timeout for the download in seconds, with a resolution of milliseconds. By default no timeout is set, but this can also be explicitly requested by passing a timeout value of \\texttt{Inf}.\n",
       "\n",
       "If the \\texttt{progress} keyword argument is provided, it must be a callback funtion which will be called whenever there are updates about the size and status of the ongoing download. The callback must take two integer arguments: \\texttt{total} and \\texttt{now} which are the total size of the download in bytes, and the number of bytes which have been downloaded so far. Note that \\texttt{total} starts out as zero and remains zero until the server gives an indiation of the total size of the download (e.g. with a \\texttt{Content-Length} header), which may never happen. So a well-behaved progress callback should handle a total size of zero gracefully.\n",
       "\n",
       "If the \\texttt{verbose} option is set to true, \\texttt{libcurl}, which is used to implement the download functionality will print debugging information to \\texttt{stderr}.\n",
       "\n"
      ],
      "text/markdown": [
       "```\n",
       "download(url, [ output = tempfile() ];\n",
       "    [ method = \"GET\", ]\n",
       "    [ headers = <none>, ]\n",
       "    [ timeout = <none>, ]\n",
       "    [ progress = <none>, ]\n",
       "    [ verbose = false, ]\n",
       "    [ downloader = <default>, ]\n",
       ") -> output\n",
       "\n",
       "    url        :: AbstractString\n",
       "    output     :: Union{AbstractString, AbstractCmd, IO}\n",
       "    method     :: AbstractString\n",
       "    headers    :: Union{AbstractVector, AbstractDict}\n",
       "    timeout    :: Real\n",
       "    progress   :: (total::Integer, now::Integer) --> Any\n",
       "    verbose    :: Bool\n",
       "    downloader :: Downloader\n",
       "```\n",
       "\n",
       "Download a file from the given url, saving it to `output` or if not specified, a temporary path. The `output` can also be an `IO` handle, in which case the body of the response is streamed to that handle and the handle is returned. If `output` is a command, the command is run and output is sent to it on stdin.\n",
       "\n",
       "If the `downloader` keyword argument is provided, it must be a `Downloader` object. Resources and connections will be shared between downloads performed by the same `Downloader` and cleaned up automatically when the object is garbage collected or there have been no downloads performed with it for a grace period. See `Downloader` for more info about configuration and usage.\n",
       "\n",
       "If the `headers` keyword argument is provided, it must be a vector or dictionary whose elements are all pairs of strings. These pairs are passed as headers when downloading URLs with protocols that supports them, such as HTTP/S.\n",
       "\n",
       "The `timeout` keyword argument specifies a timeout for the download in seconds, with a resolution of milliseconds. By default no timeout is set, but this can also be explicitly requested by passing a timeout value of `Inf`.\n",
       "\n",
       "If the `progress` keyword argument is provided, it must be a callback funtion which will be called whenever there are updates about the size and status of the ongoing download. The callback must take two integer arguments: `total` and `now` which are the total size of the download in bytes, and the number of bytes which have been downloaded so far. Note that `total` starts out as zero and remains zero until the server gives an indiation of the total size of the download (e.g. with a `Content-Length` header), which may never happen. So a well-behaved progress callback should handle a total size of zero gracefully.\n",
       "\n",
       "If the `verbose` option is set to true, `libcurl`, which is used to implement the download functionality will print debugging information to `stderr`.\n"
      ],
      "text/plain": [
       "\u001b[36m  download(url, [ output = tempfile() ];\u001b[39m\n",
       "\u001b[36m      [ method = \"GET\", ]\u001b[39m\n",
       "\u001b[36m      [ headers = <none>, ]\u001b[39m\n",
       "\u001b[36m      [ timeout = <none>, ]\u001b[39m\n",
       "\u001b[36m      [ progress = <none>, ]\u001b[39m\n",
       "\u001b[36m      [ verbose = false, ]\u001b[39m\n",
       "\u001b[36m      [ downloader = <default>, ]\u001b[39m\n",
       "\u001b[36m  ) -> output\u001b[39m\n",
       "\u001b[36m  \u001b[39m\n",
       "\u001b[36m      url        :: AbstractString\u001b[39m\n",
       "\u001b[36m      output     :: Union{AbstractString, AbstractCmd, IO}\u001b[39m\n",
       "\u001b[36m      method     :: AbstractString\u001b[39m\n",
       "\u001b[36m      headers    :: Union{AbstractVector, AbstractDict}\u001b[39m\n",
       "\u001b[36m      timeout    :: Real\u001b[39m\n",
       "\u001b[36m      progress   :: (total::Integer, now::Integer) --> Any\u001b[39m\n",
       "\u001b[36m      verbose    :: Bool\u001b[39m\n",
       "\u001b[36m      downloader :: Downloader\u001b[39m\n",
       "\n",
       "  Download a file from the given url, saving it to \u001b[36moutput\u001b[39m or if not specified,\n",
       "  a temporary path. The \u001b[36moutput\u001b[39m can also be an \u001b[36mIO\u001b[39m handle, in which case the\n",
       "  body of the response is streamed to that handle and the handle is returned.\n",
       "  If \u001b[36moutput\u001b[39m is a command, the command is run and output is sent to it on\n",
       "  stdin.\n",
       "\n",
       "  If the \u001b[36mdownloader\u001b[39m keyword argument is provided, it must be a \u001b[36mDownloader\u001b[39m\n",
       "  object. Resources and connections will be shared between downloads performed\n",
       "  by the same \u001b[36mDownloader\u001b[39m and cleaned up automatically when the object is\n",
       "  garbage collected or there have been no downloads performed with it for a\n",
       "  grace period. See \u001b[36mDownloader\u001b[39m for more info about configuration and usage.\n",
       "\n",
       "  If the \u001b[36mheaders\u001b[39m keyword argument is provided, it must be a vector or\n",
       "  dictionary whose elements are all pairs of strings. These pairs are passed\n",
       "  as headers when downloading URLs with protocols that supports them, such as\n",
       "  HTTP/S.\n",
       "\n",
       "  The \u001b[36mtimeout\u001b[39m keyword argument specifies a timeout for the download in\n",
       "  seconds, with a resolution of milliseconds. By default no timeout is set,\n",
       "  but this can also be explicitly requested by passing a timeout value of \u001b[36mInf\u001b[39m.\n",
       "\n",
       "  If the \u001b[36mprogress\u001b[39m keyword argument is provided, it must be a callback funtion\n",
       "  which will be called whenever there are updates about the size and status of\n",
       "  the ongoing download. The callback must take two integer arguments: \u001b[36mtotal\u001b[39m\n",
       "  and \u001b[36mnow\u001b[39m which are the total size of the download in bytes, and the number of\n",
       "  bytes which have been downloaded so far. Note that \u001b[36mtotal\u001b[39m starts out as zero\n",
       "  and remains zero until the server gives an indiation of the total size of\n",
       "  the download (e.g. with a \u001b[36mContent-Length\u001b[39m header), which may never happen. So\n",
       "  a well-behaved progress callback should handle a total size of zero\n",
       "  gracefully.\n",
       "\n",
       "  If the \u001b[36mverbose\u001b[39m option is set to true, \u001b[36mlibcurl\u001b[39m, which is used to implement\n",
       "  the download functionality will print debugging information to \u001b[36mstderr\u001b[39m."
      ]
     },
     "execution_count": 7,
     "metadata": {},
     "output_type": "execute_result"
    }
   ],
   "source": [
    "?Downloads.download"
   ]
  },
  {
   "cell_type": "code",
   "execution_count": 8,
   "metadata": {},
   "outputs": [
    {
     "data": {
      "text/plain": [
       "\"programminglanguages.csv\""
      ]
     },
     "execution_count": 8,
     "metadata": {},
     "output_type": "execute_result"
    }
   ],
   "source": [
    "P = Downloads.download(\"https://github.com/nassarhuda/easy_data/raw/master/programming_languages.csv\",\n",
    "    \"programminglanguages.csv\")"
   ]
  },
  {
   "cell_type": "code",
   "execution_count": 10,
   "metadata": {},
   "outputs": [
    {
     "name": "stderr",
     "output_type": "stream",
     "text": [
      "--2021-06-27 01:56:14--  https://github.com/nassarhuda/easy_data/raw/master/programming_languages.csv\n",
      "Resolving github.com (github.com)... 13.234.210.38\n",
      "Connecting to github.com (github.com)|13.234.210.38|:443... connected.\n",
      "HTTP request sent, awaiting response... 302 Found\n",
      "Location: https://raw.githubusercontent.com/nassarhuda/easy_data/master/programming_languages.csv [following]\n",
      "--2021-06-27 01:56:15--  https://raw.githubusercontent.com/nassarhuda/easy_data/master/programming_languages.csv\n",
      "Resolving raw.githubusercontent.com (raw.githubusercontent.com)... 185.199.111.133, 185.199.108.133, 185.199.109.133, ...\n",
      "Connecting to raw.githubusercontent.com (raw.githubusercontent.com)|185.199.111.133|:443... connected.\n",
      "HTTP request sent, awaiting response... 200 OK\n",
      "Length: 876 [text/plain]\n",
      "Saving to: 'programming_languages.csv'\n",
      "\n",
      "     0K                                                       100% 1.94M=0s\n",
      "\n",
      "2021-06-27 01:56:15 (1.94 MB/s) - 'programming_languages.csv' saved [876/876]\n",
      "\n"
     ]
    }
   ],
   "source": [
    ";wget \"https://github.com/nassarhuda/easy_data/raw/master/programming_languages.csv\""
   ]
  },
  {
   "cell_type": "markdown",
   "metadata": {},
   "source": [
    "# Read data from text files"
   ]
  },
  {
   "cell_type": "markdown",
   "metadata": {},
   "source": [
    "1. readdlm: std way to read a delimitor file\n",
    "2. writedlm"
   ]
  },
  {
   "cell_type": "code",
   "execution_count": 26,
   "metadata": {},
   "outputs": [
    {
     "data": {
      "text/plain": [
       "(Any[1951 \"Regional Assembly Language\"; 1952 \"Autocode\"; … ; 2012 \"Julia\"; 2014 \"Swift\"], AbstractString[\"year\" \"language\"])"
      ]
     },
     "execution_count": 26,
     "metadata": {},
     "output_type": "execute_result"
    }
   ],
   "source": [
    "P,H = readdlm(\"programming_languages.csv\",',';header=true)"
   ]
  },
  {
   "cell_type": "code",
   "execution_count": 30,
   "metadata": {},
   "outputs": [],
   "source": [
    "writedlm(\"programming_languages_dlm.txt\", P, \"-\")"
   ]
  },
  {
   "cell_type": "markdown",
   "metadata": {},
   "source": [
    "A more powerful package to use here is `CSV` package. BY default the `CSV` package imports the data to a DataFrame, which can have several advantages."
   ]
  },
  {
   "cell_type": "code",
   "execution_count": 41,
   "metadata": {},
   "outputs": [
    {
     "data": {
      "text/html": [
       "<table class=\"data-frame\"><thead><tr><th></th><th>year</th><th>language</th></tr><tr><th></th><th>Int64</th><th>String</th></tr></thead><tbody><p>73 rows × 2 columns</p><tr><th>1</th><td>1951</td><td>Regional Assembly Language</td></tr><tr><th>2</th><td>1952</td><td>Autocode</td></tr><tr><th>3</th><td>1954</td><td>IPL</td></tr><tr><th>4</th><td>1955</td><td>FLOW-MATIC</td></tr><tr><th>5</th><td>1957</td><td>FORTRAN</td></tr><tr><th>6</th><td>1957</td><td>COMTRAN</td></tr><tr><th>7</th><td>1958</td><td>LISP</td></tr><tr><th>8</th><td>1958</td><td>ALGOL 58</td></tr><tr><th>9</th><td>1959</td><td>FACT</td></tr><tr><th>10</th><td>1959</td><td>COBOL</td></tr><tr><th>11</th><td>1959</td><td>RPG</td></tr><tr><th>12</th><td>1962</td><td>APL</td></tr><tr><th>13</th><td>1962</td><td>Simula</td></tr><tr><th>14</th><td>1962</td><td>SNOBOL</td></tr><tr><th>15</th><td>1963</td><td>CPL</td></tr><tr><th>16</th><td>1964</td><td>Speakeasy</td></tr><tr><th>17</th><td>1964</td><td>BASIC</td></tr><tr><th>18</th><td>1964</td><td>PL/I</td></tr><tr><th>19</th><td>1966</td><td>JOSS</td></tr><tr><th>20</th><td>1967</td><td>BCPL</td></tr><tr><th>21</th><td>1968</td><td>Logo</td></tr><tr><th>22</th><td>1969</td><td>B</td></tr><tr><th>23</th><td>1970</td><td>Pascal</td></tr><tr><th>24</th><td>1970</td><td>Forth</td></tr><tr><th>25</th><td>1972</td><td>C</td></tr><tr><th>26</th><td>1972</td><td>Smalltalk</td></tr><tr><th>27</th><td>1972</td><td>Prolog</td></tr><tr><th>28</th><td>1973</td><td>ML</td></tr><tr><th>29</th><td>1975</td><td>Scheme</td></tr><tr><th>30</th><td>1978</td><td>SQL </td></tr><tr><th>&vellip;</th><td>&vellip;</td><td>&vellip;</td></tr></tbody></table>"
      ],
      "text/latex": [
       "\\begin{tabular}{r|cc}\n",
       "\t& year & language\\\\\n",
       "\t\\hline\n",
       "\t& Int64 & String\\\\\n",
       "\t\\hline\n",
       "\t1 & 1951 & Regional Assembly Language \\\\\n",
       "\t2 & 1952 & Autocode \\\\\n",
       "\t3 & 1954 & IPL \\\\\n",
       "\t4 & 1955 & FLOW-MATIC \\\\\n",
       "\t5 & 1957 & FORTRAN \\\\\n",
       "\t6 & 1957 & COMTRAN \\\\\n",
       "\t7 & 1958 & LISP \\\\\n",
       "\t8 & 1958 & ALGOL 58 \\\\\n",
       "\t9 & 1959 & FACT \\\\\n",
       "\t10 & 1959 & COBOL \\\\\n",
       "\t11 & 1959 & RPG \\\\\n",
       "\t12 & 1962 & APL \\\\\n",
       "\t13 & 1962 & Simula \\\\\n",
       "\t14 & 1962 & SNOBOL \\\\\n",
       "\t15 & 1963 & CPL \\\\\n",
       "\t16 & 1964 & Speakeasy \\\\\n",
       "\t17 & 1964 & BASIC \\\\\n",
       "\t18 & 1964 & PL/I \\\\\n",
       "\t19 & 1966 & JOSS \\\\\n",
       "\t20 & 1967 & BCPL \\\\\n",
       "\t21 & 1968 & Logo \\\\\n",
       "\t22 & 1969 & B \\\\\n",
       "\t23 & 1970 & Pascal \\\\\n",
       "\t24 & 1970 & Forth \\\\\n",
       "\t25 & 1972 & C \\\\\n",
       "\t26 & 1972 & Smalltalk \\\\\n",
       "\t27 & 1972 & Prolog \\\\\n",
       "\t28 & 1973 & ML \\\\\n",
       "\t29 & 1975 & Scheme \\\\\n",
       "\t30 & 1978 & SQL  \\\\\n",
       "\t$\\dots$ & $\\dots$ & $\\dots$ \\\\\n",
       "\\end{tabular}\n"
      ],
      "text/plain": [
       "73×2 DataFrame\n",
       "│ Row │ year  │ language                   │\n",
       "│     │ \u001b[90mInt64\u001b[39m │ \u001b[90mString\u001b[39m                     │\n",
       "├─────┼───────┼────────────────────────────┤\n",
       "│ 1   │ 1951  │ Regional Assembly Language │\n",
       "│ 2   │ 1952  │ Autocode                   │\n",
       "│ 3   │ 1954  │ IPL                        │\n",
       "│ 4   │ 1955  │ FLOW-MATIC                 │\n",
       "│ 5   │ 1957  │ FORTRAN                    │\n",
       "│ 6   │ 1957  │ COMTRAN                    │\n",
       "│ 7   │ 1958  │ LISP                       │\n",
       "│ 8   │ 1958  │ ALGOL 58                   │\n",
       "│ 9   │ 1959  │ FACT                       │\n",
       "│ 10  │ 1959  │ COBOL                      │\n",
       "⋮\n",
       "│ 63  │ 2005  │ F#                         │\n",
       "│ 64  │ 2006  │ PowerShell                 │\n",
       "│ 65  │ 2007  │ Clojure                    │\n",
       "│ 66  │ 2009  │ Go                         │\n",
       "│ 67  │ 2010  │ Rust                       │\n",
       "│ 68  │ 2011  │ Dart                       │\n",
       "│ 69  │ 2011  │ Kotlin                     │\n",
       "│ 70  │ 2011  │ Red                        │\n",
       "│ 71  │ 2011  │ Elixir                     │\n",
       "│ 72  │ 2012  │ Julia                      │\n",
       "│ 73  │ 2014  │ Swift                      │"
      ]
     },
     "execution_count": 41,
     "metadata": {},
     "output_type": "execute_result"
    }
   ],
   "source": [
    "C = CSV.read(\"programming_languages.csv\", DataFrame)"
   ]
  },
  {
   "cell_type": "code",
   "execution_count": 46,
   "metadata": {},
   "outputs": [
    {
     "data": {
      "text/html": [
       "<table class=\"data-frame\"><thead><tr><th></th><th>year</th><th>language</th></tr><tr><th></th><th>Int64</th><th>String</th></tr></thead><tbody><p>10 rows × 2 columns</p><tr><th>1</th><td>1951</td><td>Regional Assembly Language</td></tr><tr><th>2</th><td>1952</td><td>Autocode</td></tr><tr><th>3</th><td>1954</td><td>IPL</td></tr><tr><th>4</th><td>1955</td><td>FLOW-MATIC</td></tr><tr><th>5</th><td>1957</td><td>FORTRAN</td></tr><tr><th>6</th><td>1957</td><td>COMTRAN</td></tr><tr><th>7</th><td>1958</td><td>LISP</td></tr><tr><th>8</th><td>1958</td><td>ALGOL 58</td></tr><tr><th>9</th><td>1959</td><td>FACT</td></tr><tr><th>10</th><td>1959</td><td>COBOL</td></tr></tbody></table>"
      ],
      "text/latex": [
       "\\begin{tabular}{r|cc}\n",
       "\t& year & language\\\\\n",
       "\t\\hline\n",
       "\t& Int64 & String\\\\\n",
       "\t\\hline\n",
       "\t1 & 1951 & Regional Assembly Language \\\\\n",
       "\t2 & 1952 & Autocode \\\\\n",
       "\t3 & 1954 & IPL \\\\\n",
       "\t4 & 1955 & FLOW-MATIC \\\\\n",
       "\t5 & 1957 & FORTRAN \\\\\n",
       "\t6 & 1957 & COMTRAN \\\\\n",
       "\t7 & 1958 & LISP \\\\\n",
       "\t8 & 1958 & ALGOL 58 \\\\\n",
       "\t9 & 1959 & FACT \\\\\n",
       "\t10 & 1959 & COBOL \\\\\n",
       "\\end{tabular}\n"
      ],
      "text/plain": [
       "10×2 DataFrame\n",
       "│ Row │ year  │ language                   │\n",
       "│     │ \u001b[90mInt64\u001b[39m │ \u001b[90mString\u001b[39m                     │\n",
       "├─────┼───────┼────────────────────────────┤\n",
       "│ 1   │ 1951  │ Regional Assembly Language │\n",
       "│ 2   │ 1952  │ Autocode                   │\n",
       "│ 3   │ 1954  │ IPL                        │\n",
       "│ 4   │ 1955  │ FLOW-MATIC                 │\n",
       "│ 5   │ 1957  │ FORTRAN                    │\n",
       "│ 6   │ 1957  │ COMTRAN                    │\n",
       "│ 7   │ 1958  │ LISP                       │\n",
       "│ 8   │ 1958  │ ALGOL 58                   │\n",
       "│ 9   │ 1959  │ FACT                       │\n",
       "│ 10  │ 1959  │ COBOL                      │"
      ]
     },
     "execution_count": 46,
     "metadata": {},
     "output_type": "execute_result"
    }
   ],
   "source": [
    "@show typeof(C)\n",
    "C[1:10,:]"
   ]
  },
  {
   "cell_type": "code",
   "execution_count": 48,
   "metadata": {},
   "outputs": [
    {
     "name": "stdout",
     "output_type": "stream",
     "text": [
      "names(C) = [\"year\", \"language\"]\n"
     ]
    },
    {
     "data": {
      "text/plain": [
       "2-element Vector{String}:\n",
       " \"year\"\n",
       " \"language\""
      ]
     },
     "execution_count": 48,
     "metadata": {},
     "output_type": "execute_result"
    }
   ],
   "source": [
    "@show names(C)"
   ]
  },
  {
   "cell_type": "code",
   "execution_count": 50,
   "metadata": {},
   "outputs": [
    {
     "data": {
      "text/html": [
       "<table class=\"data-frame\"><thead><tr><th></th><th>variable</th><th>mean</th><th>min</th><th>median</th><th>max</th><th>nunique</th><th>nmissing</th><th>eltype</th></tr><tr><th></th><th>Symbol</th><th>Union…</th><th>Any</th><th>Union…</th><th>Any</th><th>Union…</th><th>Nothing</th><th>DataType</th></tr></thead><tbody><p>2 rows × 8 columns</p><tr><th>1</th><td>year</td><td>1982.99</td><td>1951</td><td>1986.0</td><td>2014</td><td></td><td></td><td>Int64</td></tr><tr><th>2</th><td>language</td><td></td><td>ALGOL 58</td><td></td><td>dBase III</td><td>73</td><td></td><td>String</td></tr></tbody></table>"
      ],
      "text/latex": [
       "\\begin{tabular}{r|cccccccc}\n",
       "\t& variable & mean & min & median & max & nunique & nmissing & eltype\\\\\n",
       "\t\\hline\n",
       "\t& Symbol & Union… & Any & Union… & Any & Union… & Nothing & DataType\\\\\n",
       "\t\\hline\n",
       "\t1 & year & 1982.99 & 1951 & 1986.0 & 2014 &  &  & Int64 \\\\\n",
       "\t2 & language &  & ALGOL 58 &  & dBase III & 73 &  & String \\\\\n",
       "\\end{tabular}\n"
      ],
      "text/plain": [
       "2×8 DataFrame. Omitted printing of 2 columns\n",
       "│ Row │ variable │ mean    │ min      │ median │ max       │ nunique │\n",
       "│     │ \u001b[90mSymbol\u001b[39m   │ \u001b[90mUnion…\u001b[39m  │ \u001b[90mAny\u001b[39m      │ \u001b[90mUnion…\u001b[39m │ \u001b[90mAny\u001b[39m       │ \u001b[90mUnion…\u001b[39m  │\n",
       "├─────┼──────────┼─────────┼──────────┼────────┼───────────┼─────────┤\n",
       "│ 1   │ year     │ 1982.99 │ 1951     │ 1986.0 │ 2014      │         │\n",
       "│ 2   │ language │         │ ALGOL 58 │        │ dBase III │ 73      │"
      ]
     },
     "execution_count": 50,
     "metadata": {},
     "output_type": "execute_result"
    }
   ],
   "source": [
    "names(C)\n",
    "C.year\n",
    "C.language\n",
    "describe(C)"
   ]
  },
  {
   "cell_type": "code",
   "execution_count": null,
   "metadata": {},
   "outputs": [],
   "source": []
  }
 ],
 "metadata": {
  "kernelspec": {
   "display_name": "Julia 1.6.0",
   "language": "julia",
   "name": "julia-1.6"
  },
  "language_info": {
   "file_extension": ".jl",
   "mimetype": "application/julia",
   "name": "julia",
   "version": "1.6.0"
  }
 },
 "nbformat": 4,
 "nbformat_minor": 4
}
