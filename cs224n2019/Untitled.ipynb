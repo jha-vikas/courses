{
 "cells": [
  {
   "cell_type": "markdown",
   "metadata": {},
   "source": [
    "# Solution for Assignment #2\n",
    "\n",
    "### 1 Understanding word2vec\n",
    "\n",
    " **(a)**  As described in the doc, $\\boldsymbol{y}$ is a one-hot vector with a 1 for the true outside word $o$, that means $y_i$ is 1 if and only if $i == o$. so the proof could be below:\n",
    "\n",
    "<!-- $ - \\sum_{w\\in Vocab}y_w\\log(\\hat{y}_o) = $ -->\n",
    "\n",
    "$\\begin{aligned}\n",
    "   - \\sum_{w\\in Vocab}y_w\\log(\\hat{y}_w) &= - [y_1\\log(\\hat{y}_1) + \\cdots + y_o\\log(\\hat{y}_o) + \\cdots + y_w\\log(\\hat{y}_w)] \\\\\n",
    "     & = - y_o\\log(\\hat{y}_o) \\\\\n",
    "         & = -\\log(\\hat{y}_o) \\\\\n",
    "         & = -\\log \\mathrm{P}(O = o | C = c)\n",
    "     \\end{aligned}$\n",
    "\n",
    "**(b)** we know this deravatives:\n",
    "$$\n",
    "\\because J = CE(y, \\hat{y}) \\\\\n",
    "\\hat{y} = softmax(\\theta)\\\\\n",
    "\\therefore \\frac{\\partial J}{\\partial \\theta} = (\\hat{y} - y)^T\n",
    "$$\n",
    "\n",
    "$y$ is a column vector in the above equation. So, we can use chain rules to solve the deravitive:\n",
    "\n",
    "$$\\begin{aligned}\n",
    "\\frac{\\partial J}{\\partial v_c} &= \\frac{\\partial J}{\\partial \\theta} \\frac{\\partial \\theta}{\\partial v_c} \\\\\n",
    "&= (\\hat{y} - y) \\frac{\\partial U^Tv_c}{\\partial v_c} \\\\\n",
    "&= U^T(\\hat{y} - y)\n",
    "\\end{aligned}$$\n",
    "\n",
    "**(c)**\n",
    "similar to the equation above.\n",
    "$$\\begin{aligned}\n",
    "\\frac{\\partial J}{\\partial v_c} &= \\frac{\\partial J}{\\partial \\theta} \\frac{\\partial \\theta}{\\partial U} \\\\\n",
    "&= (\\hat{y} - y) \\frac{\\partial U^Tv_c}{\\partial U} \\\\\n",
    "&= v_c(\\hat{y} - y)^T\n",
    "\\end{aligned}$$\n",
    "\n",
    "**(d)**\n",
    "\n"
   ]
  },
  {
   "cell_type": "code",
   "execution_count": null,
   "metadata": {},
   "outputs": [],
   "source": []
  }
 ],
 "metadata": {
  "kernelspec": {
   "display_name": "Python 3",
   "language": "python",
   "name": "python3"
  },
  "language_info": {
   "codemirror_mode": {
    "name": "ipython",
    "version": 3
   },
   "file_extension": ".py",
   "mimetype": "text/x-python",
   "name": "python",
   "nbconvert_exporter": "python",
   "pygments_lexer": "ipython3",
   "version": "3.8.7"
  }
 },
 "nbformat": 4,
 "nbformat_minor": 4
}
