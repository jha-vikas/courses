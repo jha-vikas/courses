{
 "cells": [
  {
   "cell_type": "code",
   "execution_count": 1,
   "metadata": {},
   "outputs": [],
   "source": [
    "import numpy as np\n",
    "import matplotlib.pyplot as plt"
   ]
  },
  {
   "cell_type": "code",
   "execution_count": 2,
   "metadata": {},
   "outputs": [],
   "source": [
    "# Hyperparameters\n",
    "num_trials = 100_000\n",
    "eps = 0.1\n",
    "bandit_prob = [0.2, 0.5, 0.75]  # the win rate for different bandits"
   ]
  },
  {
   "cell_type": "code",
   "execution_count": null,
   "metadata": {},
   "outputs": [],
   "source": [
    "# defining class bandit\n",
    "class Bandit:\n",
    "    def __init__(self, p):\n",
    "        self.p = p\n",
    "        self.p_estimate = 0\n",
    "        self.N = 0 # num samples collected so far\n",
    "    \n",
    "    def pull(self):\n",
    "        # draw a 1 with probability p\n",
    "        return np.random.random() < self.p\n",
    "    \n",
    "    def update(self, x):\n",
    "        self.N += 1\n",
    "        self.p_estimate = self.p_estimate + (1/self.N)*(x - self.p_estimate)\n",
    "\n",
    "# define ucb\n",
    "def ucb(mean, n, nj):\n",
    "    return mean + np.sqrt(2*np.log(n) / nj)"
   ]
  },
  {
   "cell_type": "code",
   "execution_count": null,
   "metadata": {},
   "outputs": [],
   "source": [
    "# experiment\n",
    "def run_experiment():\n",
    "    bandits = [Bandit(p) for p in bandit_prob]\n",
    "    rewards = np.empty(num_trials)\n",
    "    total_plays = 0\n",
    "    \n",
    "    # initialization: play each bandit once\n",
    "    for bandit in bandits:\n",
    "        x = bandit.pull()\n",
    "        total_plays += 1\n",
    "        bandit.update(x)\n",
    "    "
   ]
  }
 ],
 "metadata": {
  "kernelspec": {
   "display_name": "Python 3",
   "language": "python",
   "name": "python3"
  },
  "language_info": {
   "codemirror_mode": {
    "name": "ipython",
    "version": 3
   },
   "file_extension": ".py",
   "mimetype": "text/x-python",
   "name": "python",
   "nbconvert_exporter": "python",
   "pygments_lexer": "ipython3",
   "version": "3.8.10"
  }
 },
 "nbformat": 4,
 "nbformat_minor": 4
}
