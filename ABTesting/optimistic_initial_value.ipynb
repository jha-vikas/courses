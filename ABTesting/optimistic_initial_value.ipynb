{
 "cells": [
  {
   "cell_type": "code",
   "execution_count": 1,
   "metadata": {},
   "outputs": [],
   "source": [
    "import numpy as np\n",
    "import matplotlib.pyplot as plt\n",
    "import matplotlib.lines as mlines"
   ]
  },
  {
   "cell_type": "code",
   "execution_count": 29,
   "metadata": {},
   "outputs": [],
   "source": [
    "# defining hyperparameters\n",
    "num_trials = 10_000\n",
    "bandit_prob = [0.2, 0.5, 0.75]\n",
    "p0 = 1 # initial high probability"
   ]
  },
  {
   "cell_type": "code",
   "execution_count": 30,
   "metadata": {},
   "outputs": [],
   "source": [
    "class Bandit:\n",
    "    '''\n",
    "    defining the slot machine,\n",
    "    -p is the win rate\n",
    "    -has pull method\n",
    "    -maintains the win rate over time'''\n",
    "    \n",
    "    def __init__(self, p, p0=10):\n",
    "        self.p = p\n",
    "        self.p_estimate = p0\n",
    "        self.N = 1  # number of trials. We start with N = 1, else the estimated prob will be erased.\n",
    "    \n",
    "    def pull(self):\n",
    "        # draw a 1 with probability p\n",
    "        return np.random.random() < self.p\n",
    "    \n",
    "    def update(self, x):\n",
    "        self.N += 1\n",
    "        self.p_estimate = self.p_estimate + (1/self.N)*(x - self.p_estimate)\n",
    "        #print(self.p_estimate)\n",
    "        \n",
    "        \n",
    "def experiment():\n",
    "    bandits = [Bandit(p, p0) for p in bandit_prob]\n",
    "    num_optimal = 0\n",
    "    rewards = np.zeros(num_trials)\n",
    "    optimal_j = np.argmax([b.p for b in bandits])\n",
    "    print(\"optimal j:\", optimal_j)\n",
    "    \n",
    "    for i in range(num_trials):\n",
    "        j = np.argmax([b.p_estimate for b in bandits])  # we select the bandit based on the estimated bandit\n",
    "        if j == optimal_j:\n",
    "            num_optimal += 1\n",
    "        \n",
    "        # pull the arm for the selcted bandit\n",
    "        x = bandits[j].pull()\n",
    "        \n",
    "        # update rewards log\n",
    "        rewards[i] = x\n",
    "        \n",
    "        # update the selected bandit\n",
    "        bandits[j].update(x)\n",
    "    return rewards, num_optimal, bandits"
   ]
  },
  {
   "cell_type": "code",
   "execution_count": 31,
   "metadata": {},
   "outputs": [
    {
     "name": "stdout",
     "output_type": "stream",
     "text": [
      "optimal j: 2\n",
      "mean estimate 0.5\n",
      "mean estimate 0.5526315789473684\n",
      "mean estimate 0.7555979516015655\n",
      "total reward earned: 7546.0\n",
      "overall win rate: 0.7546\n",
      "num_times_optimal_bandit_selected: 9958\n"
     ]
    }
   ],
   "source": [
    "rewards, num_optimal, bandits = experiment()\n",
    "\n",
    "for b in bandits:\n",
    "    print(\"mean estimate\", b.p_estimate)\n",
    "\n",
    "# print total reward\n",
    "print(\"total reward earned:\", rewards.sum())\n",
    "print(\"overall win rate:\", rewards.sum() / num_trials)\n",
    "print(\"num_times_optimal_bandit_selected:\", num_optimal)"
   ]
  },
  {
   "cell_type": "code",
   "execution_count": 32,
   "metadata": {},
   "outputs": [
    {
     "data": {
      "image/png": "[encoded data removed]",
      "text/plain": [
       "<Figure size 432x288 with 1 Axes>"
      ]
     },
     "metadata": {
      "needs_background": "light"
     },
     "output_type": "display_data"
    }
   ],
   "source": [
    "# plot the results\n",
    "cumulative_rewards = np.cumsum(rewards)\n",
    "win_rates = cumulative_rewards / (np.arange(num_trials) + 1)\n",
    "plt.plot(win_rates)\n",
    "plt.plot(np.ones(num_trials)*np.max(bandit_prob))\n",
    "plt.xlabel(\"Num of trials\")\n",
    "plt.ylabel(\"Win probability\")\n",
    "blue_line = mlines.Line2D([], [], color='blue', label='p_estimated')\n",
    "orange_line = mlines.Line2D([], [], color='orange',label='p_optimal_actual')\n",
    "plt.legend(handles=[blue_line, orange_line])\n",
    "plt.show();"
   ]
  }
 ],
 "metadata": {
  "kernelspec": {
   "display_name": "Python 3",
   "language": "python",
   "name": "python3"
  },
  "language_info": {
   "codemirror_mode": {
    "name": "ipython",
    "version": 3
   },
   "file_extension": ".py",
   "mimetype": "text/x-python",
   "name": "python",
   "nbconvert_exporter": "python",
   "pygments_lexer": "ipython3",
   "version": "3.8.10"
  }
 },
 "nbformat": 4,
 "nbformat_minor": 4
}
