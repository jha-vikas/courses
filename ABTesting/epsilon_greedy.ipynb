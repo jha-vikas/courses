{
 "cells": [
  {
   "cell_type": "code",
   "execution_count": 10,
   "metadata": {},
   "outputs": [],
   "source": [
    "import numpy as np\n",
    "import matplotlib.pyplot as plt\n",
    "import matplotlib.lines as mlines"
   ]
  },
  {
   "cell_type": "code",
   "execution_count": 2,
   "metadata": {},
   "outputs": [],
   "source": [
    "# define hyperparameters\n",
    "num_trials = 10000\n",
    "eps = 0.1\n",
    "bandit_prob = [0.2, 0.5, 0.75]  # we define 3 bandits"
   ]
  },
  {
   "cell_type": "code",
   "execution_count": 3,
   "metadata": {},
   "outputs": [
    {
     "name": "stdout",
     "output_type": "stream",
     "text": [
      "optimal j: 2\n",
      "mean estimate 0.20718232044198906\n",
      "mean estimate 0.4924924924924924\n",
      "mean estimate 0.7425040300913478\n",
      "total reward earned: 7148.0\n",
      "overall win rate: 0.7148\n",
      "num_times_explored: 1006\n",
      "num_times_exploited: 8994\n",
      "num_times_optimal_bandit_selected: 9305\n"
     ]
    }
   ],
   "source": [
    "class Bandit:\n",
    "    '''\n",
    "    defining the slot machine,\n",
    "    -p is the win rate\n",
    "    -has pull method\n",
    "    -maintains the win rate over time'''\n",
    "    \n",
    "    def __init__(self, p):\n",
    "        self.p = p\n",
    "        self.p_estimate = 0\n",
    "        self.N = 0  # number of trials\n",
    "    \n",
    "    def pull(self):\n",
    "        # draw a 1 with probability p\n",
    "        return np.random.random() < self.p\n",
    "    \n",
    "    def update(self, x):\n",
    "        self.N += 1\n",
    "        self.p_estimate = self.p_estimate + (1/self.N)*(x - self.p_estimate)\n",
    "        #print(self.p_estimate)\n",
    "\n",
    "def experiment():\n",
    "    bandits = [Bandit(p) for p in bandit_prob]\n",
    "    \n",
    "    rewards = np.zeros(num_trials)\n",
    "    num_times_explored = 0\n",
    "    num_times_exploited = 0\n",
    "    num_optimal = 0\n",
    "    optimal_j = np.argmax([b.p for b in bandits])\n",
    "    print(\"optimal j:\", optimal_j)\n",
    "    \n",
    "    for i in range(num_trials):\n",
    "        if np.random.random() < eps:\n",
    "            num_times_explored += 1\n",
    "            j = np.random.choice([0,1,2])\n",
    "        else:\n",
    "            num_times_exploited += 1\n",
    "            j = np.argmax([b.p_estimate for b in bandits])  # we select the bandit based on the estimated bandit\n",
    "        if j == optimal_j:\n",
    "            num_optimal += 1\n",
    "        \n",
    "        # pull the arm for the selcted bandit\n",
    "        x = bandits[j].pull()\n",
    "        \n",
    "        # update rewards log\n",
    "        rewards[i] = x\n",
    "        \n",
    "        # update the selected bandit\n",
    "        bandits[j].update(x)\n",
    "    return rewards, num_times_explored, num_times_exploited, num_optimal, bandits\n",
    "\n",
    "rewards, num_times_explored, num_times_exploited, num_optimal, bandits = experiment()\n",
    "\n",
    "for b in bandits:\n",
    "    print(\"mean estimate\", b.p_estimate)\n",
    "\n",
    "# print total reward\n",
    "print(\"total reward earned:\", rewards.sum())\n",
    "print(\"overall win rate:\", rewards.sum() / num_trials)\n",
    "print(\"num_times_explored:\", num_times_explored)\n",
    "print(\"num_times_exploited:\", num_times_exploited)\n",
    "print(\"num_times_optimal_bandit_selected:\", num_optimal)"
   ]
  },
  {
   "cell_type": "code",
   "execution_count": 4,
   "metadata": {},
   "outputs": [
    {
     "data": {
      "image/png": "[encoded data removed]",
      "text/plain": [
       "<Figure size 432x288 with 1 Axes>"
      ]
     },
     "metadata": {
      "needs_background": "light"
     },
     "output_type": "display_data"
    }
   ],
   "source": [
    "# plot the results\n",
    "cumulative_rewards = np.cumsum(rewards)\n",
    "win_rates = cumulative_rewards / (np.arange(num_trials) + 1)\n",
    "plt.plot(win_rates)\n",
    "plt.plot(np.ones(num_trials)*np.max(bandit_prob))\n",
    "plt.show();"
   ]
  },
  {
   "cell_type": "code",
   "execution_count": 5,
   "metadata": {},
   "outputs": [],
   "source": [
    "# implementing the decaying epsilon\n",
    "num_trials = 10000\n",
    "eps0 = 0.1\n",
    "eps_min = 0.01\n",
    "k = 0.001\n",
    "alpha = 0.999\n",
    "bandit_prob = [0.2, 0.5, 0.75]  # we define 3 bandits"
   ]
  },
  {
   "cell_type": "code",
   "execution_count": 6,
   "metadata": {},
   "outputs": [
    {
     "name": "stdout",
     "output_type": "stream",
     "text": [
      "optimal j: 2\n",
      "mean estimate 0.2413793103448276\n",
      "mean estimate 0.4883720930232557\n",
      "mean estimate 0.7534246575342463\n",
      "total reward earned: 7508.0\n",
      "overall win rate: 0.7508\n",
      "num_times_explored: 123\n",
      "num_times_exploited: 9877\n",
      "num_times_optimal_bandit_selected: 9928\n"
     ]
    }
   ],
   "source": [
    "def experiment2():\n",
    "    bandits = [Bandit(p) for p in bandit_prob]\n",
    "    \n",
    "    rewards = np.zeros(num_trials)\n",
    "    num_times_explored = 0\n",
    "    num_times_exploited = 0\n",
    "    num_optimal = 0\n",
    "    optimal_j = np.argmax([b.p for b in bandits])\n",
    "    print(\"optimal j:\", optimal_j)\n",
    "    \n",
    "    for i in range(num_trials):\n",
    "        #eps = max(eps0 - k*i, eps_min)\n",
    "        eps = eps0*(alpha**i)\n",
    "        if np.random.random() < eps:\n",
    "            num_times_explored += 1\n",
    "            j = np.random.choice([0,1,2])\n",
    "        else:\n",
    "            num_times_exploited += 1\n",
    "            j = np.argmax([b.p_estimate for b in bandits])  # we select the bandit based on the estimated bandit\n",
    "        if j == optimal_j:\n",
    "            num_optimal += 1\n",
    "        \n",
    "        # pull the arm for the selcted bandit\n",
    "        x = bandits[j].pull()\n",
    "        \n",
    "        # update rewards log\n",
    "        rewards[i] = x\n",
    "        \n",
    "        # update the selected bandit\n",
    "        bandits[j].update(x)\n",
    "    return rewards, num_times_explored, num_times_exploited, num_optimal, bandits\n",
    "\n",
    "rewards, num_times_explored, num_times_exploited, num_optimal, bandits = experiment2()\n",
    "\n",
    "for b in bandits:\n",
    "    print(\"mean estimate\", b.p_estimate)\n",
    "\n",
    "# print total reward\n",
    "print(\"total reward earned:\", rewards.sum())\n",
    "print(\"overall win rate:\", rewards.sum() / num_trials)\n",
    "print(\"num_times_explored:\", num_times_explored)\n",
    "print(\"num_times_exploited:\", num_times_exploited)\n",
    "print(\"num_times_optimal_bandit_selected:\", num_optimal)"
   ]
  },
  {
   "cell_type": "code",
   "execution_count": 12,
   "metadata": {},
   "outputs": [
    {
     "data": {
      "image/png": "[encoded data removed]",
      "text/plain": [
       "<Figure size 432x288 with 1 Axes>"
      ]
     },
     "metadata": {
      "needs_background": "light"
     },
     "output_type": "display_data"
    }
   ],
   "source": [
    "# plot the results\n",
    "cumulative_rewards = np.cumsum(rewards)\n",
    "win_rates = cumulative_rewards / (np.arange(num_trials) + 1)\n",
    "plt.plot(win_rates)\n",
    "plt.plot(np.ones(num_trials)*np.max(bandit_prob))\n",
    "plt.xlabel(\"Num of trials\")\n",
    "plt.ylabel(\"Win probability\")\n",
    "blue_line = mlines.Line2D([], [], color='blue', label='p_estimated')\n",
    "orange_line = mlines.Line2D([], [], color='orange',label='p_optimal_actual')\n",
    "plt.legend(handles=[blue_line])\n",
    "plt.show();"
   ]
  },
  {
   "cell_type": "code",
   "execution_count": null,
   "metadata": {},
   "outputs": [],
   "source": []
  }
 ],
 "metadata": {
  "kernelspec": {
   "display_name": "Python 3",
   "language": "python",
   "name": "python3"
  },
  "language_info": {
   "codemirror_mode": {
    "name": "ipython",
    "version": 3
   },
   "file_extension": ".py",
   "mimetype": "text/x-python",
   "name": "python",
   "nbconvert_exporter": "python",
   "pygments_lexer": "ipython3",
   "version": "3.8.10"
  }
 },
 "nbformat": 4,
 "nbformat_minor": 4
}
